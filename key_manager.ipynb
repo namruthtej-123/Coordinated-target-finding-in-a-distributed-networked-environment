{
 "cells": [
  {
   "cell_type": "code",
   "execution_count": 2,
   "id": "c5b77819",
   "metadata": {},
   "outputs": [
    {
     "name": "stdout",
     "output_type": "stream",
     "text": [
      " Key generated and saved to 'secret.key'\n"
     ]
    }
   ],
   "source": [
    "from cryptography.fernet import Fernet\n",
    "\n",
    "def generate_key(filename=\"secret.key\"):\n",
    "    key = Fernet.generate_key()\n",
    "    with open(filename, \"wb\") as f:\n",
    "        f.write(key)\n",
    "    print(f\" Key generated and saved to '{filename}'\")\n",
    "\n",
    "# Run this to generate and save the key\n",
    "generate_key()\n"
   ]
  }
 ],
 "metadata": {
  "kernelspec": {
   "display_name": "Python 3",
   "language": "python",
   "name": "python3"
  },
  "language_info": {
   "codemirror_mode": {
    "name": "ipython",
    "version": 3
   },
   "file_extension": ".py",
   "mimetype": "text/x-python",
   "name": "python",
   "nbconvert_exporter": "python",
   "pygments_lexer": "ipython3",
   "version": "3.12.4"
  }
 },
 "nbformat": 4,
 "nbformat_minor": 5
}
