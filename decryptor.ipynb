{
 "cells": [
  {
   "cell_type": "code",
   "execution_count": 4,
   "id": "89c2d962",
   "metadata": {},
   "outputs": [
    {
     "name": "stdout",
     "output_type": "stream",
     "text": [
      "🔓 Decrypted Enemy Coordinates:\n",
      "  Latitude : 17.4593\n",
      "  Longitude: 78.4011\n"
     ]
    },
    {
     "data": {
      "text/plain": [
       "{'enemy_lat': 17.4593, 'enemy_lon': 78.4011}"
      ]
     },
     "execution_count": 4,
     "metadata": {},
     "output_type": "execute_result"
    }
   ],
   "source": [
    "from cryptography.fernet import Fernet\n",
    "import json\n",
    "\n",
    "def load_key(filename=\"secret.key\"):\n",
    "    with open(filename, \"rb\") as f:\n",
    "        return f.read()\n",
    "\n",
    "def decrypt_coordinates(encrypted_file=\"enemy_encrypted.json\", key_file=\"secret.key\"):\n",
    "    key = load_key(key_file)\n",
    "    f = Fernet(key)\n",
    "\n",
    "    with open(encrypted_file, \"rb\") as f_in:\n",
    "        encrypted_data = f_in.read()\n",
    "\n",
    "    decrypted_data = f.decrypt(encrypted_data)\n",
    "    coord_data = json.loads(decrypted_data.decode())\n",
    "\n",
    "    print(\"🔓 Decrypted Enemy Coordinates:\")\n",
    "    print(f\"  Latitude : {coord_data['enemy_lat']}\")\n",
    "    print(f\"  Longitude: {coord_data['enemy_lon']}\")\n",
    "    return coord_data\n",
    "\n",
    "# Run this to decrypt\n",
    "decrypt_coordinates()\n"
   ]
  }
 ],
 "metadata": {
  "kernelspec": {
   "display_name": "Python 3",
   "language": "python",
   "name": "python3"
  },
  "language_info": {
   "codemirror_mode": {
    "name": "ipython",
    "version": 3
   },
   "file_extension": ".py",
   "mimetype": "text/x-python",
   "name": "python",
   "nbconvert_exporter": "python",
   "pygments_lexer": "ipython3",
   "version": "3.12.4"
  }
 },
 "nbformat": 4,
 "nbformat_minor": 5
}
