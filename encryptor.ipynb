{
 "cells": [
  {
   "cell_type": "code",
   "execution_count": null,
   "id": "c6716341",
   "metadata": {},
   "outputs": [
    {
     "name": "stdout",
     "output_type": "stream",
     "text": [
      "🔐 Encrypted coordinates saved to 'enemy_encrypted.json'\n"
     ]
    }
   ],
   "source": [
    "from cryptography.fernet import Fernet\n",
    "import json\n",
    "\n",
    "def load_key(filename=\"secret.key\"):\n",
    "    with open(filename, \"rb\") as f:\n",
    "        return f.read()\n",
    "\n",
    "def encrypt_coordinates(lat, lon, output_file=\"enemy_encrypted.json\", key_file=\"secret.key\"):\n",
    "    key = load_key(key_file)\n",
    "    f = Fernet(key)\n",
    "\n",
    "    coord_data = json.dumps({\n",
    "        \"enemy_lat\": lat,\n",
    "        \"enemy_lon\": lon\n",
    "    }).encode()\n",
    "\n",
    "    encrypted = f.encrypt(coord_data)\n",
    "\n",
    "    with open(output_file, \"wb\") as f_out:\n",
    "        f_out.write(encrypted)\n",
    "    \n",
    "    print(f\"🔐 Encrypted coordinates saved to '{output_file}'\")\n",
    "\n",
    "# Run this with your enemy coordinates\n",
    "encrypt_coordinates(17.1593, 78.4011)\n"
   ]
  }
 ],
 "metadata": {
  "kernelspec": {
   "display_name": "Python 3",
   "language": "python",
   "name": "python3"
  },
  "language_info": {
   "codemirror_mode": {
    "name": "ipython",
    "version": 3
   },
   "file_extension": ".py",
   "mimetype": "text/x-python",
   "name": "python",
   "nbconvert_exporter": "python",
   "pygments_lexer": "ipython3",
   "version": "3.12.4"
  }
 },
 "nbformat": 4,
 "nbformat_minor": 5
}
